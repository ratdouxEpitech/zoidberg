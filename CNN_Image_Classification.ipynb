{
  "cells": [
    {
      "attachments": {},
      "cell_type": "markdown",
      "id": "1d8baced-4b30-4ddd-84c9-3834620677b3",
      "metadata": {
        "jupyter": {
          "outputs_hidden": false,
          "source_hidden": false
        },
        "noteable": {
          "cell_type": "markdown"
        }
      },
      "source": [
        "# Convolutional Neural Network for Image Classification\n",
        "\n",
        "This notebook contains a Convolutional Neural Network (CNN) implemented in Keras for classifying images. The CNN is trained on a dataset of chest X-ray images, with the aim of detecting whether or not the images contain signs of pneumonia.\n",
        "\n",
        "The notebook is structured as follows:\n",
        "\n",
        "- **Importing Libraries**: Necessary libraries and modules are imported.\n",
        "- **Data Preparation**: The image data is loaded and preprocessed for training.\n",
        "- **Model Building**: The CNN model is defined and compiled.\n",
        "- **Model Training**: The model is trained on the training data and validated on the validation data.\n",
        "- **Model Evaluation**: The model's performance is evaluated on the test data.\n",
        "- **Model Saving**: The trained model is saved for future use.\n",
        "\n",
        "Let's get started!"
      ]
    },
    {
      "attachments": {},
      "cell_type": "markdown",
      "id": "b40fde51-9df1-4a58-b34f-6f39bc1617cf",
      "metadata": {
        "jupyter": {
          "outputs_hidden": false,
          "source_hidden": false
        },
        "noteable": {
          "cell_type": "markdown"
        }
      },
      "source": [
        "## Importing Libraries\n",
        "\n",
        "First, we import all the necessary libraries and modules for our CNN. This includes TensorFlow and Keras for building the CNN, as well as os and numpy for data handling."
      ]
    },
    {
      "cell_type": "code",
      "execution_count": 359,
      "id": "23d4a8d3-04bd-4b24-81b3-780e219ffe47",
      "metadata": {
        "ExecuteTime": {
          "end_time": "2023-05-21T14:42:47.376899+00:00",
          "start_time": "2023-05-21T14:42:47.198715+00:00"
        },
        "jupyter": {
          "outputs_hidden": false,
          "source_hidden": false
        },
        "noteable": {
          "cell_type": "code"
        }
      },
      "outputs": [],
      "source": [
        "import os\n",
        "import itertools\n",
        "import numpy as np\n",
        "from keras.preprocessing.image import ImageDataGenerator\n",
        "from keras.utils.data_utils import Sequence\n",
        "from keras.utils import to_categorical\n",
        "from keras.models import Sequential\n",
        "from keras import metrics\n",
        "from keras.layers import Conv2D, MaxPooling2D, Flatten, Dense, Dropout, SeparableConv2D,BatchNormalization, LeakyReLU, GlobalAveragePooling2D\n",
        "from keras.regularizers import l2\n",
        "from keras.callbacks import EarlyStopping\n",
        "from keras.callbacks import ReduceLROnPlateau\n",
        "\n",
        "import datetime\n",
        "import tensorflow as tf"
      ]
    },
    {
      "cell_type": "code",
      "execution_count": 360,
      "id": "03cd0daf",
      "metadata": {},
      "outputs": [
        {
          "name": "stdout",
          "output_type": "stream",
          "text": [
            "The tensorboard extension is already loaded. To reload it, use:\n",
            "  %reload_ext tensorboard\n"
          ]
        }
      ],
      "source": [
        "%load_ext tensorboard"
      ]
    },
    {
      "cell_type": "code",
      "execution_count": 361,
      "id": "34a5ca5b",
      "metadata": {},
      "outputs": [
        {
          "name": "stdout",
          "output_type": "stream",
          "text": [
            "Using GPU\n"
          ]
        }
      ],
      "source": [
        "os.environ['TF_FORCE_GPU_ALLOW_GROWTH'] = 'true'\n",
        "physical_devices = tf.config.list_physical_devices('GPU')\n",
        "if len(physical_devices) > 0:\n",
        "    tf.config.experimental.set_memory_growth(physical_devices[0], True)\n",
        "    print(\"Using GPU\")\n",
        "else:\n",
        "    print(\"Using CPU\")"
      ]
    },
    {
      "attachments": {},
      "cell_type": "markdown",
      "id": "e7646828-8799-4f64-af28-eb4c6fdff148",
      "metadata": {
        "jupyter": {
          "outputs_hidden": false,
          "source_hidden": false
        },
        "noteable": {
          "cell_type": "markdown"
        }
      },
      "source": [
        "## Data Preparation\n",
        "\n",
        "Next, we set up the paths to the directories containing our training, validation, and test data. We also define some parameters for our images and training process, such as the image dimensions, the batch size, and the number of epochs."
      ]
    },
    {
      "cell_type": "code",
      "execution_count": 362,
      "id": "f8187589-2a63-41ac-b508-fb9844d36b85",
      "metadata": {
        "jupyter": {
          "outputs_hidden": false,
          "source_hidden": false
        },
        "noteable": {
          "cell_type": "code"
        }
      },
      "outputs": [],
      "source": [
        "# Set up data directories\n",
        "normal_data_dir = \"chest_Xray\\\\train\\\\NORMAL\"\n",
        "pneumonia_data_dir = \"chest_Xray\\\\train\\\\PNEUMONIA\"\n",
        "train_data_dir = \"chest_Xray\\\\train\"\n",
        "validation_data_dir = \"chest_Xray\\\\val\"\n",
        "test_data_dir = \"chest_Xray\\\\test\"\n",
        "\n",
        "# Define image parameters\n",
        "img_height = 336\n",
        "img_width = 336\n",
        "num_channels = 1  # Set to 1 for grayscale images\n",
        "\n",
        "# Define training parameters\n",
        "batch_size = 64\n",
        "num_epochs = 30\n",
        "learning_rate = 0.0005\n",
        "es_patience = 3\n",
        "reducelrp_factor = 0.3"
      ]
    },
    {
      "attachments": {},
      "cell_type": "markdown",
      "id": "c60cbb74-473c-443d-a2ff-012cbf7a8030",
      "metadata": {
        "jupyter": {
          "outputs_hidden": false,
          "source_hidden": false
        },
        "noteable": {
          "cell_type": "markdown"
        }
      },
      "source": [
        "We then set up our image data generators. These will automatically load our images from the directories, apply some data augmentation techniques to the training images to increase the diversity of our training data, and rescale the pixel values from [0, 255] to [0, 1]."
      ]
    },
    {
      "attachments": {},
      "cell_type": "markdown",
      "id": "050c5307-90fe-4a90-ab4f-62455eb88c26",
      "metadata": {
        "jupyter": {
          "outputs_hidden": false,
          "source_hidden": false
        },
        "noteable": {
          "cell_type": "markdown"
        }
      },
      "source": [
        "## Model Building\n",
        "\n",
        "Next, we define our CNN model. This is a sequential model with several convolutional layers, each followed by a max pooling layer. We also include dropout layers to reduce overfitting, and a final dense layer for binary classification."
      ]
    },
    {
      "cell_type": "code",
      "execution_count": 363,
      "id": "828e8f46-073e-42a5-8444-354b03b90d2a",
      "metadata": {
        "ExecuteTime": {
          "end_time": "2023-05-21T14:45:40.723167+00:00",
          "start_time": "2023-05-21T14:45:40.533138+00:00"
        },
        "jupyter": {
          "outputs_hidden": false,
          "source_hidden": false
        },
        "noteable": {
          "cell_type": "code"
        }
      },
      "outputs": [],
      "source": [
        "# Define the model\n",
        "model = Sequential([\n",
        "    Conv2D(8, (3, 3), activation=LeakyReLU(), input_shape=(img_height, img_width, num_channels), padding='same'),\n",
        "    BatchNormalization(),\n",
        "    MaxPooling2D((2, 2)),\n",
        "\n",
        "    Conv2D(16, (3, 3), activation=LeakyReLU(), padding='same'),\n",
        "    BatchNormalization(),\n",
        "    MaxPooling2D((2, 2)),\n",
        "    \n",
        "    Conv2D(16, (3, 3), activation=LeakyReLU(), padding='same'),\n",
        "    BatchNormalization(),\n",
        "    MaxPooling2D((2, 2)),\n",
        "\n",
        "    Conv2D(8, (5, 5), activation=LeakyReLU(), padding='same'),\n",
        "    BatchNormalization(),\n",
        "    MaxPooling2D((2, 2)),\n",
        "    \n",
        "    Flatten(),\n",
        "\n",
        "    Dense(64, activation='elu', kernel_regularizer=l2(0.001)),\n",
        "    Dropout(0.2),\n",
        "    Dense(1, activation='sigmoid')\n",
        "])\n"
      ]
    },
    {
      "attachments": {},
      "cell_type": "markdown",
      "id": "153e974e-1197-403c-8497-c304e31bba87",
      "metadata": {
        "jupyter": {
          "outputs_hidden": false,
          "source_hidden": false
        },
        "noteable": {
          "cell_type": "markdown"
        }
      },
      "source": [
        "After defining the model, we compile it with the Adam optimizer and binary crossentropy loss function, since this is a binary classification problem. We also specify that we want to track accuracy as a metric during training."
      ]
    },
    {
      "cell_type": "code",
      "execution_count": 364,
      "id": "301df190-ca0f-4e3d-8735-3ad763a2cfe6",
      "metadata": {
        "ExecuteTime": {
          "end_time": "2023-05-21T14:46:05.020594+00:00",
          "start_time": "2023-05-21T14:46:04.844911+00:00"
        },
        "jupyter": {
          "outputs_hidden": false,
          "source_hidden": false
        },
        "noteable": {
          "cell_type": "code"
        }
      },
      "outputs": [
        {
          "name": "stdout",
          "output_type": "stream",
          "text": [
            "Model: \"sequential_51\"\n",
            "_________________________________________________________________\n",
            " Layer (type)                Output Shape              Param #   \n",
            "=================================================================\n",
            " conv2d_234 (Conv2D)         (None, 336, 336, 8)       80        \n",
            "                                                                 \n",
            " batch_normalization_222 (Ba  (None, 336, 336, 8)      32        \n",
            " tchNormalization)                                               \n",
            "                                                                 \n",
            " max_pooling2d_173 (MaxPooli  (None, 168, 168, 8)      0         \n",
            " ng2D)                                                           \n",
            "                                                                 \n",
            " conv2d_235 (Conv2D)         (None, 168, 168, 16)      1168      \n",
            "                                                                 \n",
            " batch_normalization_223 (Ba  (None, 168, 168, 16)     64        \n",
            " tchNormalization)                                               \n",
            "                                                                 \n",
            " max_pooling2d_174 (MaxPooli  (None, 84, 84, 16)       0         \n",
            " ng2D)                                                           \n",
            "                                                                 \n",
            " conv2d_236 (Conv2D)         (None, 84, 84, 16)        2320      \n",
            "                                                                 \n",
            " batch_normalization_224 (Ba  (None, 84, 84, 16)       64        \n",
            " tchNormalization)                                               \n",
            "                                                                 \n",
            " max_pooling2d_175 (MaxPooli  (None, 42, 42, 16)       0         \n",
            " ng2D)                                                           \n",
            "                                                                 \n",
            " conv2d_237 (Conv2D)         (None, 42, 42, 8)         3208      \n",
            "                                                                 \n",
            " batch_normalization_225 (Ba  (None, 42, 42, 8)        32        \n",
            " tchNormalization)                                               \n",
            "                                                                 \n",
            " max_pooling2d_176 (MaxPooli  (None, 21, 21, 8)        0         \n",
            " ng2D)                                                           \n",
            "                                                                 \n",
            " flatten_47 (Flatten)        (None, 3528)              0         \n",
            "                                                                 \n",
            " dense_162 (Dense)           (None, 64)                225856    \n",
            "                                                                 \n",
            " dropout_128 (Dropout)       (None, 64)                0         \n",
            "                                                                 \n",
            " dense_163 (Dense)           (None, 1)                 65        \n",
            "                                                                 \n",
            "=================================================================\n",
            "Total params: 232,889\n",
            "Trainable params: 232,793\n",
            "Non-trainable params: 96\n",
            "_________________________________________________________________\n"
          ]
        }
      ],
      "source": [
        "# Compile the model\n",
        "optimizer = tf.keras.optimizers.Adam(learning_rate=learning_rate)\n",
        "model.compile(\n",
        "    optimizer=optimizer, \n",
        "    loss='binary_crossentropy', \n",
        "    metrics=[\n",
        "        'accuracy', \n",
        "        metrics.Precision(name='precision'),\n",
        "        metrics.Recall(name='recall'),\n",
        "        metrics.AUC(name='auc')\n",
        "    ]\n",
        ")\n",
        "\n",
        "model.summary()"
      ]
    },
    {
      "attachments": {},
      "cell_type": "markdown",
      "id": "15aba945",
      "metadata": {},
      "source": [
        "TensorBoard logs"
      ]
    },
    {
      "cell_type": "code",
      "execution_count": 365,
      "id": "89abc117",
      "metadata": {},
      "outputs": [],
      "source": [
        "log_dir = \"logs/fit/\" + datetime.datetime.now().strftime(\"%Y%m%d-%H%M%S\")\n",
        "tensorboard_callback = tf.keras.callbacks.TensorBoard(log_dir=log_dir, histogram_freq=1)\n",
        "tboard_callback = tf.keras.callbacks.TensorBoard(log_dir = log_dir,\n",
        "                                                 histogram_freq = 1,\n",
        "                                                 profile_batch = '500,520')"
      ]
    },
    {
      "attachments": {},
      "cell_type": "markdown",
      "id": "1bf75261-9fee-44bb-b681-a8cf2316907a",
      "metadata": {
        "jupyter": {
          "outputs_hidden": false,
          "source_hidden": false
        },
        "noteable": {
          "cell_type": "markdown"
        }
      },
      "source": [
        "We also set up some callbacks for our training process. The `EarlyStopping` callback will stop the training if the validation loss does not improve for a certain number of epochs, and the `ReduceLROnPlateau` callback will reduce the learning rate when the validation loss stops improving, to allow for finer tuning."
      ]
    },
    {
      "cell_type": "code",
      "execution_count": 366,
      "id": "93981f84-e717-43e8-8a05-4e9e8819be88",
      "metadata": {
        "ExecuteTime": {
          "end_time": "2023-05-21T14:46:36.167856+00:00",
          "start_time": "2023-05-21T14:46:35.983316+00:00"
        },
        "jupyter": {
          "outputs_hidden": false,
          "source_hidden": false
        },
        "noteable": {
          "cell_type": "code"
        }
      },
      "outputs": [],
      "source": [
        "# Set up callbacks\n",
        "early_stopping = EarlyStopping(monitor='val_loss', patience=es_patience, verbose=1, restore_best_weights=True)\n",
        "reduce_lr_on_plateau = ReduceLROnPlateau(monitor='val_loss', factor=reducelrp_factor, patience=3, verbose=1, min_lr=5e-6)"
      ]
    },
    {
      "attachments": {},
      "cell_type": "markdown",
      "id": "80dd7336-f1c5-40b3-9ddb-e8e7f08d474b",
      "metadata": {
        "jupyter": {
          "outputs_hidden": false,
          "source_hidden": false
        },
        "noteable": {
          "cell_type": "markdown"
        }
      },
      "source": [
        "## Model Training\n",
        "\n",
        "Now we're ready to train our model. We first set up our data generators to load the images, and then we call the `fit` method on our model to start the training."
      ]
    },
    {
      "cell_type": "code",
      "execution_count": 367,
      "id": "2784f5ec-ff03-48bd-aaca-5cd6ee9492f6",
      "metadata": {
        "ExecuteTime": {
          "end_time": "2023-05-21T14:44:43.203096+00:00",
          "start_time": "2023-05-21T14:44:43.024980+00:00"
        },
        "jupyter": {
          "outputs_hidden": false,
          "source_hidden": false
        },
        "noteable": {
          "cell_type": "code"
        }
      },
      "outputs": [],
      "source": [
        "train_datagen = ImageDataGenerator(\n",
        "    rescale=1./255,\n",
        "    zoom_range=0.2,\n",
        "    horizontal_flip=True,\n",
        "    fill_mode='nearest'\n",
        ")\n",
        "# No rotation as X-Rays are not usually rotated\n",
        "val_datagen = ImageDataGenerator(rescale=1./255)\n",
        "test_datagen = ImageDataGenerator(rescale=1./255)"
      ]
    },
    {
      "cell_type": "code",
      "execution_count": 368,
      "id": "c244ddec",
      "metadata": {},
      "outputs": [
        {
          "name": "stdout",
          "output_type": "stream",
          "text": [
            "Found 5168 images belonging to 2 classes.\n",
            "Found 64 images belonging to 2 classes.\n",
            "Found 624 images belonging to 2 classes.\n"
          ]
        }
      ],
      "source": [
        "train_generator = train_datagen.flow_from_directory(\n",
        "    train_data_dir,\n",
        "    target_size=(img_height, img_width),\n",
        "    batch_size=batch_size,\n",
        "    class_mode='binary',\n",
        "    color_mode='grayscale',\n",
        "    seed=42,\n",
        "    shuffle=True\n",
        ")\n",
        "\n",
        "val_generator = val_datagen.flow_from_directory(\n",
        "    validation_data_dir,\n",
        "    target_size=(img_height, img_width),\n",
        "    batch_size=batch_size,\n",
        "    class_mode='binary',\n",
        "    color_mode='grayscale',\n",
        "    seed=42\n",
        ")\n",
        "\n",
        "test_generator = test_datagen.flow_from_directory(\n",
        "    test_data_dir,\n",
        "    target_size=(img_height, img_width),\n",
        "    batch_size=batch_size,\n",
        "    class_mode='binary',\n",
        "    color_mode='grayscale',\n",
        "    seed=42,\n",
        "    shuffle=False\n",
        ")"
      ]
    },
    {
      "cell_type": "code",
      "execution_count": 369,
      "id": "604f0699",
      "metadata": {},
      "outputs": [
        {
          "name": "stdout",
          "output_type": "stream",
          "text": [
            "{'NORMAL': 0, 'PNEUMONIA': 1}\n"
          ]
        }
      ],
      "source": [
        "# show class labels for reference\n",
        "print(train_generator.class_indices)"
      ]
    },
    {
      "cell_type": "code",
      "execution_count": 370,
      "id": "afc265ba-e3b2-4cc4-8d95-caa60fe65db9",
      "metadata": {
        "ExecuteTime": {
          "end_time": "2023-05-21T14:47:39.214536+00:00",
          "start_time": "2023-05-21T14:47:39.033572+00:00"
        },
        "jupyter": {
          "outputs_hidden": false,
          "source_hidden": false
        },
        "noteable": {
          "cell_type": "code"
        }
      },
      "outputs": [
        {
          "name": "stdout",
          "output_type": "stream",
          "text": [
            "Epoch 1/20\n",
            "81/81 [==============================] - 32s 389ms/step - loss: 0.3872 - accuracy: 0.9048 - precision: 0.9354 - recall: 0.9369 - auc: 0.9467 - val_loss: 1.8343 - val_accuracy: 0.5000 - val_precision: 0.5000 - val_recall: 1.0000 - val_auc: 0.8008 - lr: 5.0000e-04\n",
            "Epoch 2/20\n",
            "81/81 [==============================] - 31s 377ms/step - loss: 0.2752 - accuracy: 0.9396 - precision: 0.9607 - recall: 0.9582 - auc: 0.9780 - val_loss: 2.1239 - val_accuracy: 0.5000 - val_precision: 0.5000 - val_recall: 1.0000 - val_auc: 0.7910 - lr: 5.0000e-04\n",
            "Epoch 3/20\n",
            "81/81 [==============================] - 31s 385ms/step - loss: 0.2348 - accuracy: 0.9555 - precision: 0.9716 - recall: 0.9686 - auc: 0.9850 - val_loss: 1.8300 - val_accuracy: 0.5000 - val_precision: 0.5000 - val_recall: 1.0000 - val_auc: 0.9463 - lr: 5.0000e-04\n",
            "Epoch 4/20\n",
            "81/81 [==============================] - 31s 385ms/step - loss: 0.2294 - accuracy: 0.9509 - precision: 0.9690 - recall: 0.9649 - auc: 0.9858 - val_loss: 1.3193 - val_accuracy: 0.5312 - val_precision: 0.5161 - val_recall: 1.0000 - val_auc: 0.9487 - lr: 5.0000e-04\n",
            "Epoch 5/20\n",
            "81/81 [==============================] - 32s 388ms/step - loss: 0.2112 - accuracy: 0.9598 - precision: 0.9725 - recall: 0.9735 - auc: 0.9890 - val_loss: 1.4966 - val_accuracy: 0.6094 - val_precision: 0.5614 - val_recall: 1.0000 - val_auc: 0.9121 - lr: 5.0000e-04\n",
            "Epoch 6/20\n",
            "81/81 [==============================] - 31s 383ms/step - loss: 0.2108 - accuracy: 0.9568 - precision: 0.9717 - recall: 0.9704 - auc: 0.9873 - val_loss: 0.6174 - val_accuracy: 0.8594 - val_precision: 1.0000 - val_recall: 0.7188 - val_auc: 0.9321 - lr: 5.0000e-04\n",
            "Epoch 7/20\n",
            "81/81 [==============================] - 33s 409ms/step - loss: 0.1928 - accuracy: 0.9582 - precision: 0.9739 - recall: 0.9699 - auc: 0.9898 - val_loss: 1.1234 - val_accuracy: 0.7969 - val_precision: 0.7111 - val_recall: 1.0000 - val_auc: 0.9175 - lr: 5.0000e-04\n",
            "Epoch 8/20\n",
            "81/81 [==============================] - 31s 387ms/step - loss: 0.1836 - accuracy: 0.9611 - precision: 0.9755 - recall: 0.9722 - auc: 0.9916 - val_loss: 0.2749 - val_accuracy: 0.9531 - val_precision: 1.0000 - val_recall: 0.9062 - val_auc: 0.9795 - lr: 5.0000e-04\n",
            "Epoch 9/20\n",
            "81/81 [==============================] - 32s 388ms/step - loss: 0.1738 - accuracy: 0.9638 - precision: 0.9773 - recall: 0.9740 - auc: 0.9922 - val_loss: 0.4591 - val_accuracy: 0.8750 - val_precision: 0.8158 - val_recall: 0.9688 - val_auc: 0.9736 - lr: 5.0000e-04\n",
            "Epoch 10/20\n",
            "81/81 [==============================] - 32s 388ms/step - loss: 0.1744 - accuracy: 0.9652 - precision: 0.9771 - recall: 0.9761 - auc: 0.9907 - val_loss: 1.8270 - val_accuracy: 0.6406 - val_precision: 0.5818 - val_recall: 1.0000 - val_auc: 0.9033 - lr: 5.0000e-04\n",
            "Epoch 11/20\n",
            "81/81 [==============================] - ETA: 0s - loss: 0.1612 - accuracy: 0.9663 - precision: 0.9769 - recall: 0.9779 - auc: 0.9923\n",
            "Epoch 11: ReduceLROnPlateau reducing learning rate to 0.0001500000071246177.\n",
            "81/81 [==============================] - 32s 389ms/step - loss: 0.1612 - accuracy: 0.9663 - precision: 0.9769 - recall: 0.9779 - auc: 0.9923 - val_loss: 0.5410 - val_accuracy: 0.9062 - val_precision: 0.8611 - val_recall: 0.9688 - val_auc: 0.9551 - lr: 5.0000e-04\n",
            "Epoch 12/20\n",
            "81/81 [==============================] - 31s 383ms/step - loss: 0.1515 - accuracy: 0.9688 - precision: 0.9812 - recall: 0.9769 - auc: 0.9941 - val_loss: 0.2551 - val_accuracy: 0.9219 - val_precision: 0.9091 - val_recall: 0.9375 - val_auc: 0.9839 - lr: 1.5000e-04\n",
            "Epoch 13/20\n",
            "81/81 [==============================] - 32s 391ms/step - loss: 0.1472 - accuracy: 0.9702 - precision: 0.9813 - recall: 0.9787 - auc: 0.9936 - val_loss: 0.3824 - val_accuracy: 0.9062 - val_precision: 1.0000 - val_recall: 0.8125 - val_auc: 0.9751 - lr: 1.5000e-04\n",
            "Epoch 14/20\n",
            "81/81 [==============================] - 31s 376ms/step - loss: 0.1452 - accuracy: 0.9710 - precision: 0.9818 - recall: 0.9792 - auc: 0.9934 - val_loss: 0.5972 - val_accuracy: 0.9062 - val_precision: 0.8421 - val_recall: 1.0000 - val_auc: 0.9609 - lr: 1.5000e-04\n",
            "Epoch 15/20\n",
            "81/81 [==============================] - 31s 379ms/step - loss: 0.1316 - accuracy: 0.9760 - precision: 0.9834 - recall: 0.9844 - auc: 0.9955 - val_loss: 0.2286 - val_accuracy: 0.9375 - val_precision: 0.9375 - val_recall: 0.9375 - val_auc: 0.9873 - lr: 1.5000e-04\n",
            "Epoch 16/20\n",
            "81/81 [==============================] - 31s 378ms/step - loss: 0.1344 - accuracy: 0.9735 - precision: 0.9823 - recall: 0.9821 - auc: 0.9958 - val_loss: 0.9440 - val_accuracy: 0.7656 - val_precision: 1.0000 - val_recall: 0.5312 - val_auc: 0.9316 - lr: 1.5000e-04\n",
            "Epoch 17/20\n",
            "81/81 [==============================] - 30s 375ms/step - loss: 0.1275 - accuracy: 0.9750 - precision: 0.9836 - recall: 0.9829 - auc: 0.9965 - val_loss: 0.2024 - val_accuracy: 0.9531 - val_precision: 1.0000 - val_recall: 0.9062 - val_auc: 0.9907 - lr: 1.5000e-04\n",
            "Epoch 18/20\n",
            "81/81 [==============================] - 31s 377ms/step - loss: 0.1253 - accuracy: 0.9777 - precision: 0.9839 - recall: 0.9862 - auc: 0.9955 - val_loss: 0.2074 - val_accuracy: 0.9531 - val_precision: 0.9677 - val_recall: 0.9375 - val_auc: 0.9897 - lr: 1.5000e-04\n",
            "Epoch 19/20\n",
            "81/81 [==============================] - 31s 382ms/step - loss: 0.1253 - accuracy: 0.9754 - precision: 0.9859 - recall: 0.9810 - auc: 0.9962 - val_loss: 0.3826 - val_accuracy: 0.9062 - val_precision: 1.0000 - val_recall: 0.8125 - val_auc: 0.9771 - lr: 1.5000e-04\n",
            "Epoch 20/20\n",
            "81/81 [==============================] - ETA: 0s - loss: 0.1313 - accuracy: 0.9727 - precision: 0.9808 - recall: 0.9826 - auc: 0.9941\n",
            "Epoch 20: ReduceLROnPlateau reducing learning rate to 4.500000213738531e-05.\n",
            "81/81 [==============================] - 31s 385ms/step - loss: 0.1313 - accuracy: 0.9727 - precision: 0.9808 - recall: 0.9826 - auc: 0.9941 - val_loss: 0.5627 - val_accuracy: 0.8906 - val_precision: 1.0000 - val_recall: 0.7812 - val_auc: 0.9487 - lr: 1.5000e-04\n"
          ]
        }
      ],
      "source": [
        "# num_normal = len(os.listdir(normal_data_dir))\n",
        "# num_pneumonia = len(os.listdir(pneumonia_data_dir))\n",
        "\n",
        "# class_weight = {0: num_pneumonia / num_normal, 1: 1.}\n",
        "\n",
        "# Train the model\n",
        "history = model.fit(\n",
        "    train_generator,\n",
        "    steps_per_epoch=len(train_generator),\n",
        "    validation_data=val_generator,\n",
        "    validation_steps=len(val_generator),\n",
        "    epochs=num_epochs,\n",
        "    callbacks=[reduce_lr_on_plateau, tensorboard_callback, tboard_callback] \n",
        ")"
      ]
    },
    {
      "cell_type": "code",
      "execution_count": null,
      "id": "cced6487",
      "metadata": {},
      "outputs": [],
      "source": [
        "%tensorboard --logdir logs/fit\n"
      ]
    },
    {
      "attachments": {},
      "cell_type": "markdown",
      "id": "750c6575-eec5-4be7-91f7-36ddc8f5bec9",
      "metadata": {
        "jupyter": {
          "outputs_hidden": false,
          "source_hidden": false
        },
        "noteable": {
          "cell_type": "markdown"
        }
      },
      "source": [
        "## Model Evaluation\n",
        "\n",
        "After training, we evaluate our model on the test data to see how well it performs."
      ]
    },
    {
      "cell_type": "code",
      "execution_count": 371,
      "id": "c7cc8331-9dd8-4b34-ab25-2c109ffff9d2",
      "metadata": {
        "ExecuteTime": {
          "end_time": "2023-05-21T14:48:09.798133+00:00",
          "start_time": "2023-05-21T14:48:09.615585+00:00"
        },
        "jupyter": {
          "outputs_hidden": false,
          "source_hidden": false
        },
        "noteable": {
          "cell_type": "code"
        }
      },
      "outputs": [
        {
          "name": "stdout",
          "output_type": "stream",
          "text": [
            "10/10 [==============================] - 2s 166ms/step - loss: 0.4423 - accuracy: 0.8894 - precision: 0.9373 - recall: 0.8821 - auc: 0.9488\n",
            "Test loss: 0.4423\n",
            "Test accuracy: 0.8894\n",
            "Test Precision: 0.9373\n",
            "Test Recall: 0.8821\n",
            "Test F1-score: 0.9488\n"
          ]
        }
      ],
      "source": [
        "# Evaluate the model\n",
        "# Evaluate the model\n",
        "scores = model.evaluate(test_generator, steps=len(test_generator))\n",
        "print(f\"Test loss: {scores[0]:.4f}\")\n",
        "print(f\"Test accuracy: {scores[1]:.4f}\")\n",
        "print(f\"Test Precision: {scores[2]:.4f}\")\n",
        "print(f\"Test Recall: {scores[3]:.4f}\")\n",
        "print(f\"Test F1-score: {scores[4]:.4f}\")\n"
      ]
    },
    {
      "attachments": {},
      "cell_type": "markdown",
      "id": "639b06f0-107f-4cf0-8587-3e0285fd018f",
      "metadata": {
        "jupyter": {
          "outputs_hidden": false,
          "source_hidden": false
        },
        "noteable": {
          "cell_type": "markdown"
        }
      },
      "source": [
        "## Model Saving\n",
        "\n",
        "Finally, we save our trained model for future use. In a real-world scenario, you would likely want to use this model to make predictions on new data."
      ]
    },
    {
      "cell_type": "code",
      "execution_count": 385,
      "id": "c34f0f20-f7fe-4115-96e6-884caabba319",
      "metadata": {
        "ExecuteTime": {
          "end_time": "2023-05-21T14:48:37.500496+00:00",
          "start_time": "2023-05-21T14:48:37.324945+00:00"
        },
        "jupyter": {
          "outputs_hidden": false,
          "source_hidden": false
        },
        "noteable": {
          "cell_type": "code"
        }
      },
      "outputs": [
        {
          "name": "stdout",
          "output_type": "stream",
          "text": [
            "Model saved as chest_xray_model.h5\n"
          ]
        }
      ],
      "source": [
        "# Save the model\n",
        "model.save(\"chest_xray_model.h5\")\n",
        "print(\"Model saved as chest_xray_model.h5\")"
      ]
    },
    {
      "attachments": {},
      "cell_type": "markdown",
      "id": "3f5a679f",
      "metadata": {},
      "source": [
        "INFERENCE"
      ]
    },
    {
      "cell_type": "code",
      "execution_count": 403,
      "id": "294e30e0",
      "metadata": {},
      "outputs": [],
      "source": [
        "\n",
        "from tensorflow.keras.models import load_model\n",
        "from tensorflow.keras.preprocessing.image import load_img, img_to_array\n",
        "from PIL import Image\n"
      ]
    },
    {
      "cell_type": "code",
      "execution_count": 398,
      "id": "cda1aef1",
      "metadata": {},
      "outputs": [],
      "source": [
        "normal_folder = \"chest_Xray\\\\test\\\\NORMAL\"\n",
        "pneumonia_folder = \"chest_Xray\\\\test\\\\PNEUMONIA\"\n",
        "models_folder = r\"models\"\n",
        "img_height = 336\n",
        "img_width = 336\n",
        "\n",
        "model_results = []"
      ]
    },
    {
      "cell_type": "code",
      "execution_count": 401,
      "id": "865f5d55",
      "metadata": {},
      "outputs": [
        {
          "name": "stdout",
          "output_type": "stream",
          "text": [
            "8/8 [==============================] - 0s 5ms/step\n",
            "13/13 [==============================] - 0s 5ms/step\n"
          ]
        }
      ],
      "source": [
        "def preprocess_image(image_path, img_height, img_width):\n",
        "    img = Image.open(image_path).convert('L')  # 'L' stands for grayscale\n",
        "    img = img.resize((img_height, img_width))\n",
        "    img_array = np.array(img)\n",
        "    img_array = img_array / 255.0  # normalize pixel values\n",
        "    img_array = np.expand_dims(img_array, axis=-1)  # expand dimensions for batch input\n",
        "    img_array = np.expand_dims(img_array, axis=0)  # expand dimensions for batch input\n",
        "    return img_array\n",
        "loaded_model = ''\n",
        "for model_name in os.listdir(models_folder):\n",
        "        model_path = os.path.join(models_folder, model_name)\n",
        "        if not os.path.isfile(model_path):\n",
        "            continue\n",
        "\n",
        "        loaded_model = load_model(model_path)\n",
        "\n",
        "        def is_prediction_correct(image_path, true_class):\n",
        "            preprocessed_image = preprocess_image(image_path, img_height, img_width)\n",
        "            prediction = loaded_model.predict(preprocessed_image)\n",
        "            predicted_class = \"pneumonia\" if prediction[0][0] > 0.5 else \"normal\"\n",
        "            return predicted_class == true_class\n",
        "\n",
        "        results = {\n",
        "            \"normal\": {\"correct\": 0, \"total\": 0},\n",
        "            \"pneumonia\": {\"correct\": 0, \"total\": 0},\n",
        "        }\n",
        "\n",
        "        for folder, true_class in [(normal_folder, \"normal\"), (pneumonia_folder, \"pneumonia\")]:\n",
        "            for image_name in os.listdir(folder):\n",
        "                image_path = os.path.join(folder, image_name)\n",
        "                results[true_class][\"total\"] += 1\n",
        "                if is_prediction_correct(image_path, true_class):\n",
        "                    results[true_class][\"correct\"] += 1\n",
        "\n",
        "        total_correct = results[\"normal\"][\"correct\"] + results[\"pneumonia\"][\"correct\"]\n",
        "        total_images = results[\"normal\"][\"total\"] + results[\"pneumonia\"][\"total\"]\n",
        "        normal_correct_pct = (results[\"normal\"][\"correct\"] / results[\"normal\"][\"total\"]) * 100\n",
        "        pneumonia_correct_pct = (results[\"pneumonia\"][\"correct\"] / results[\"pneumonia\"][\"total\"]) * 100\n",
        "        overall_correct_pct = (total_correct / total_images) * 100\n",
        "\n",
        "        model_results.append({\n",
        "            \"name\": model_name,\n",
        "            \"results\": results,\n",
        "            \"total_correct\": total_correct,\n",
        "            \"normal_correct_pct\": normal_correct_pct,\n",
        "            \"pneumonia_correct_pct\": pneumonia_correct_pct,\n",
        "            \"overall_correct_pct\": overall_correct_pct\n",
        "        })"
      ]
    },
    {
      "cell_type": "code",
      "execution_count": 402,
      "id": "37c8e61a",
      "metadata": {},
      "outputs": [
        {
          "name": "stdout",
          "output_type": "stream",
          "text": [
            "Sorted by total correct:\n",
            "\n",
            "Sorted by normal correct %:\n",
            "\n",
            "Sorted by pneumonia correct %:\n"
          ]
        }
      ],
      "source": [
        "sorted_by_total_correct = sorted(model_results, key=lambda x: x[\"total_correct\"], reverse=True)\n",
        "sorted_by_normal_correct_pct = sorted(model_results, key=lambda x: x[\"normal_correct_pct\"], reverse=True)\n",
        "sorted_by_pneumonia_correct_pct = sorted(model_results, key=lambda x: x[\"pneumonia_correct_pct\"], reverse=True)\n",
        "\n",
        "print(\"Sorted by total correct:\")\n",
        "for result in sorted_by_total_correct:\n",
        "    print(result[\"name\"], result[\"total_correct\"], result[\"overall_correct_pct\"])\n",
        "\n",
        "print(\"\\nSorted by normal correct %:\")\n",
        "for result in sorted_by_normal_correct_pct:\n",
        "    print(result[\"name\"], result[\"normal_correct_pct\"])\n",
        "\n",
        "print(\"\\nSorted by pneumonia correct %:\")\n",
        "for result in sorted_by_pneumonia_correct_pct:\n",
        "    print(result[\"name\"], result[\"pneumonia_correct_pct\"])\n",
        "    "
      ]
    },
    {
      "attachments": {},
      "cell_type": "markdown",
      "id": "b1ffbc94",
      "metadata": {},
      "source": [
        "ROC CURVE"
      ]
    },
    {
      "cell_type": "code",
      "execution_count": 377,
      "id": "e566a8ee",
      "metadata": {},
      "outputs": [
        {
          "name": "stdout",
          "output_type": "stream",
          "text": [
            "10/10 [==============================] - 2s 159ms/step\n"
          ]
        },
        {
          "data": {
            "image/png": "[encoded data removed]",
            "text/plain": [
              "<Figure size 640x480 with 1 Axes>"
            ]
          },
          "metadata": {},
          "output_type": "display_data"
        }
      ],
      "source": [
        "from sklearn.metrics import roc_curve, auc\n",
        "import matplotlib.pyplot as plt\n",
        "\n",
        "# Assuming 'test_generator' contains the test data\n",
        "y_test = test_generator.classes\n",
        "# predict probabilities for test set\n",
        "y_pred = model.predict(test_generator, verbose=1)\n",
        "\n",
        "fpr, tpr, thresholds = roc_curve(y_test, y_pred)\n",
        "roc_auc = auc(fpr, tpr)\n",
        "\n",
        "plt.figure()\n",
        "plt.plot(fpr, tpr, color='darkorange', lw=2, label='ROC curve (area = %0.2f)' % roc_auc)\n",
        "plt.plot([0, 1], [0, 1], color='navy', lw=2, linestyle='--')\n",
        "plt.xlim([0.0, 1.0])\n",
        "plt.ylim([0.0, 1.05])\n",
        "plt.xlabel('False Positive Rate')\n",
        "plt.ylabel('True Positive Rate')\n",
        "plt.title('Receiver Operating Characteristic')\n",
        "plt.legend(loc=\"lower right\")\n",
        "plt.show()\n"
      ]
    },
    {
      "attachments": {},
      "cell_type": "markdown",
      "id": "94cd5fe5",
      "metadata": {},
      "source": [
        "CONFUSION MATRIX\n"
      ]
    },
    {
      "cell_type": "code",
      "execution_count": 380,
      "id": "5e33f71b",
      "metadata": {},
      "outputs": [
        {
          "name": "stdout",
          "output_type": "stream",
          "text": [
            "10/10 [==============================] - 2s 155ms/step\n",
            "[[3.44836099e-06]\n",
            " [2.08257261e-04]\n",
            " [4.13295274e-05]\n",
            " [2.78945110e-04]\n",
            " [2.60504985e-05]\n",
            " [9.10785093e-05]\n",
            " [1.14552349e-05]\n",
            " [2.12291161e-05]\n",
            " [7.50156687e-06]\n",
            " [1.77810725e-04]\n",
            " [2.32520574e-06]\n",
            " [7.19411240e-04]\n",
            " [1.43222383e-06]\n",
            " [1.49661164e-05]\n",
            " [1.60258554e-03]\n",
            " [5.85267589e-05]\n",
            " [8.66846800e-01]\n",
            " [3.47280184e-05]\n",
            " [8.65876704e-09]\n",
            " [1.55002010e-06]\n",
            " [7.51632906e-04]\n",
            " [1.13811784e-05]\n",
            " [7.75593985e-03]\n",
            " [2.80813929e-05]\n",
            " [1.14255010e-04]\n",
            " [2.90874887e-04]\n",
            " [3.38419690e-04]\n",
            " [8.25039479e-06]\n",
            " [2.74643844e-05]\n",
            " [2.23750409e-04]\n",
            " [4.19851904e-06]\n",
            " [9.87237203e-04]\n",
            " [3.14243189e-05]\n",
            " [2.20966399e-06]\n",
            " [1.54054123e-05]\n",
            " [5.87045133e-06]\n",
            " [1.88282567e-09]\n",
            " [4.56237012e-06]\n",
            " [3.04438181e-05]\n",
            " [1.46021543e-03]\n",
            " [2.39333589e-04]\n",
            " [3.48957133e-06]\n",
            " [2.57896700e-05]\n",
            " [7.11570692e-07]\n",
            " [8.89245700e-03]\n",
            " [2.96536810e-03]\n",
            " [1.98615920e-02]\n",
            " [1.56079810e-02]\n",
            " [4.47384722e-04]\n",
            " [1.14731891e-04]\n",
            " [5.97013532e-05]\n",
            " [4.61953205e-05]\n",
            " [5.13683958e-03]\n",
            " [1.07094343e-03]\n",
            " [4.52501292e-04]\n",
            " [5.35582440e-05]\n",
            " [9.30473674e-03]\n",
            " [7.56972528e-04]\n",
            " [6.20144128e-05]\n",
            " [1.13142480e-03]\n",
            " [1.23799880e-04]\n",
            " [1.85038913e-02]\n",
            " [1.32191062e-01]\n",
            " [3.31479697e-08]\n",
            " [2.11207607e-05]\n",
            " [1.03031325e-05]\n",
            " [4.18521086e-05]\n",
            " [6.30019000e-03]\n",
            " [2.31746963e-04]\n",
            " [8.61628540e-03]\n",
            " [1.34726604e-02]\n",
            " [5.67636034e-03]\n",
            " [7.00728828e-03]\n",
            " [3.16029618e-04]\n",
            " [1.49862986e-04]\n",
            " [1.29183754e-04]\n",
            " [4.05770447e-03]\n",
            " [5.46688354e-03]\n",
            " [2.91533710e-04]\n",
            " [2.92173463e-05]\n",
            " [4.25515650e-03]\n",
            " [3.95703028e-05]\n",
            " [3.90057357e-05]\n",
            " [3.68210450e-02]\n",
            " [4.10299096e-03]\n",
            " [5.41101880e-02]\n",
            " [2.37706656e-04]\n",
            " [2.42064334e-02]\n",
            " [4.01312523e-02]\n",
            " [2.40631014e-01]\n",
            " [8.34846462e-04]\n",
            " [3.78244137e-03]\n",
            " [6.25204993e-05]\n",
            " [1.50640588e-02]\n",
            " [1.39978016e-04]\n",
            " [1.39978016e-04]\n",
            " [4.97499295e-02]\n",
            " [2.85643595e-03]\n",
            " [8.85478407e-03]\n",
            " [7.33095966e-03]\n",
            " [5.38471213e-04]\n",
            " [2.80609657e-03]\n",
            " [4.29303907e-02]\n",
            " [1.09274695e-02]\n",
            " [2.79588951e-03]\n",
            " [3.06769973e-03]\n",
            " [6.70779582e-06]\n",
            " [2.46731739e-04]\n",
            " [4.33433894e-03]\n",
            " [9.34679434e-03]\n",
            " [4.58944356e-04]\n",
            " [1.59797899e-04]\n",
            " [3.29426111e-04]\n",
            " [2.82002389e-01]\n",
            " [1.55005802e-03]\n",
            " [2.04519823e-01]\n",
            " [4.24120761e-02]\n",
            " [6.66605905e-02]\n",
            " [6.66605905e-02]\n",
            " [9.99933720e-01]\n",
            " [5.05801558e-01]\n",
            " [9.75292742e-01]\n",
            " [8.81335139e-01]\n",
            " [9.92275059e-01]\n",
            " [9.07556474e-01]\n",
            " [1.94061467e-05]\n",
            " [5.60944140e-01]\n",
            " [6.91730715e-03]\n",
            " [9.33744669e-01]\n",
            " [9.61370111e-01]\n",
            " [9.99994040e-01]\n",
            " [8.66769552e-01]\n",
            " [9.07219887e-01]\n",
            " [9.99998093e-01]\n",
            " [9.25479054e-01]\n",
            " [9.85294819e-01]\n",
            " [9.99790728e-01]\n",
            " [1.34507060e-01]\n",
            " [3.34884599e-02]\n",
            " [3.34884599e-02]\n",
            " [9.95695591e-01]\n",
            " [3.17084461e-01]\n",
            " [9.95877385e-02]\n",
            " [9.92689908e-01]\n",
            " [9.96468663e-01]\n",
            " [4.95122895e-02]\n",
            " [9.37651694e-01]\n",
            " [2.47195177e-02]\n",
            " [6.83282269e-04]\n",
            " [2.99075525e-03]\n",
            " [3.59364421e-05]\n",
            " [8.04443844e-04]\n",
            " [1.24291505e-03]\n",
            " [4.62297676e-03]\n",
            " [3.22712096e-03]\n",
            " [4.55239569e-06]\n",
            " [1.01758202e-03]\n",
            " [8.87981660e-05]\n",
            " [4.11906978e-04]\n",
            " [6.10322598e-03]\n",
            " [1.04580097e-01]\n",
            " [2.91186763e-04]\n",
            " [1.22757126e-06]\n",
            " [2.11311963e-05]\n",
            " [3.95424402e-04]\n",
            " [9.12294257e-04]\n",
            " [7.04502279e-04]\n",
            " [1.89171284e-02]\n",
            " [9.24965250e-04]\n",
            " [3.11951590e-04]\n",
            " [1.20068074e-03]\n",
            " [1.08494675e-02]\n",
            " [7.60790333e-03]\n",
            " [8.13122679e-05]\n",
            " [6.07125461e-03]\n",
            " [7.12329665e-06]\n",
            " [2.30431338e-04]\n",
            " [2.60504748e-05]\n",
            " [2.75921077e-03]\n",
            " [8.51271907e-04]\n",
            " [5.51032193e-04]\n",
            " [7.92455766e-03]\n",
            " [7.50388578e-02]\n",
            " [6.47199247e-03]\n",
            " [8.85803543e-04]\n",
            " [1.00386774e-06]\n",
            " [6.22834340e-02]\n",
            " [4.50287516e-05]\n",
            " [1.52510649e-03]\n",
            " [1.49001789e-04]\n",
            " [4.44314501e-04]\n",
            " [2.68321135e-03]\n",
            " [2.46418267e-07]\n",
            " [1.97496004e-02]\n",
            " [2.63885886e-04]\n",
            " [3.35580157e-03]\n",
            " [1.18472567e-03]\n",
            " [1.27064865e-02]\n",
            " [8.57575685e-02]\n",
            " [3.05930143e-06]\n",
            " [6.43352151e-01]\n",
            " [5.16765976e-05]\n",
            " [1.30483895e-05]\n",
            " [2.12410858e-04]\n",
            " [6.57808781e-02]\n",
            " [1.15505308e-02]\n",
            " [8.23265600e-06]\n",
            " [5.85454865e-04]\n",
            " [8.68717325e-04]\n",
            " [6.03008375e-04]\n",
            " [1.58725819e-03]\n",
            " [1.44752470e-04]\n",
            " [2.20379807e-05]\n",
            " [4.79272148e-03]\n",
            " [1.57925824e-04]\n",
            " [2.54008523e-03]\n",
            " [1.91150364e-02]\n",
            " [1.48923323e-02]\n",
            " [8.81260494e-04]\n",
            " [2.14618087e-01]\n",
            " [2.92386636e-02]\n",
            " [4.67286073e-03]\n",
            " [3.78914624e-01]\n",
            " [1.00437598e-02]\n",
            " [6.04259130e-03]\n",
            " [4.99556947e-04]\n",
            " [6.49979830e-01]\n",
            " [4.65517212e-03]\n",
            " [4.35869256e-03]\n",
            " [2.99535808e-04]\n",
            " [5.59649710e-03]\n",
            " [5.36011998e-03]\n",
            " [7.02048419e-05]\n",
            " [4.95915953e-03]\n",
            " [3.16791326e-01]\n",
            " [9.99224424e-01]\n",
            " [9.99819696e-01]\n",
            " [9.98996556e-01]\n",
            " [9.99853611e-01]\n",
            " [9.98935997e-01]\n",
            " [9.99896884e-01]\n",
            " [9.98998702e-01]\n",
            " [8.67520034e-01]\n",
            " [9.99472678e-01]\n",
            " [9.99284327e-01]\n",
            " [9.43036735e-01]\n",
            " [9.99942422e-01]\n",
            " [9.97322023e-01]\n",
            " [5.56724131e-01]\n",
            " [9.95872080e-01]\n",
            " [9.98198330e-01]\n",
            " [9.99943972e-01]\n",
            " [9.79189277e-01]\n",
            " [9.99929428e-01]\n",
            " [1.63762122e-02]\n",
            " [9.80950356e-01]\n",
            " [9.99654293e-01]\n",
            " [9.96285677e-01]\n",
            " [9.92073596e-01]\n",
            " [9.79997396e-01]\n",
            " [9.59488869e-01]\n",
            " [9.99833107e-01]\n",
            " [9.99997735e-01]\n",
            " [9.58923578e-01]\n",
            " [8.66062164e-01]\n",
            " [9.41583395e-01]\n",
            " [9.99454200e-01]\n",
            " [9.99828458e-01]\n",
            " [9.99968529e-01]\n",
            " [9.95385110e-01]\n",
            " [2.25384176e-01]\n",
            " [9.99940038e-01]\n",
            " [9.98389959e-01]\n",
            " [9.87963557e-01]\n",
            " [9.99989748e-01]\n",
            " [9.86846507e-01]\n",
            " [5.27445555e-01]\n",
            " [9.80144501e-01]\n",
            " [9.87460136e-01]\n",
            " [9.97727334e-01]\n",
            " [9.95765805e-01]\n",
            " [8.63674879e-01]\n",
            " [6.97260946e-02]\n",
            " [9.99990702e-01]\n",
            " [9.61153209e-01]\n",
            " [9.98425007e-01]\n",
            " [9.82865870e-01]\n",
            " [1.51566369e-03]\n",
            " [1.89979421e-03]\n",
            " [9.25492346e-01]\n",
            " [9.98219550e-01]\n",
            " [9.95990098e-01]\n",
            " [9.99988914e-01]\n",
            " [4.89612073e-01]\n",
            " [9.75761592e-01]\n",
            " [9.99717653e-01]\n",
            " [9.75307941e-01]\n",
            " [9.99499202e-01]\n",
            " [9.42617506e-02]\n",
            " [2.57292762e-02]\n",
            " [9.99857903e-01]\n",
            " [9.99741971e-01]\n",
            " [9.99985099e-01]\n",
            " [9.99976873e-01]\n",
            " [9.99123156e-01]\n",
            " [9.94613230e-01]\n",
            " [9.99852538e-01]\n",
            " [9.99886870e-01]\n",
            " [9.87201929e-01]\n",
            " [9.76581275e-02]\n",
            " [9.79400218e-01]\n",
            " [9.97383893e-01]\n",
            " [9.99999285e-01]\n",
            " [9.99998927e-01]\n",
            " [9.99992847e-01]\n",
            " [9.97666717e-01]\n",
            " [9.99511003e-01]\n",
            " [4.49618121e-04]\n",
            " [9.99986053e-01]\n",
            " [9.99972582e-01]\n",
            " [9.99972582e-01]\n",
            " [8.61639023e-01]\n",
            " [8.04098621e-02]\n",
            " [9.99942541e-01]\n",
            " [9.95173156e-01]\n",
            " [9.98005331e-01]\n",
            " [7.44798422e-01]\n",
            " [9.97715235e-01]\n",
            " [7.60503352e-01]\n",
            " [9.99948263e-01]\n",
            " [9.99982357e-01]\n",
            " [9.99885798e-01]\n",
            " [9.99675393e-01]\n",
            " [9.99912858e-01]\n",
            " [4.57995862e-01]\n",
            " [8.91006589e-01]\n",
            " [9.46999967e-01]\n",
            " [9.77691650e-01]\n",
            " [9.77691650e-01]\n",
            " [9.95901644e-01]\n",
            " [9.99786317e-01]\n",
            " [3.96662146e-01]\n",
            " [9.97933984e-01]\n",
            " [9.99994159e-01]\n",
            " [9.98830140e-01]\n",
            " [7.46114373e-01]\n",
            " [9.64999974e-01]\n",
            " [7.11622953e-01]\n",
            " [8.34999502e-01]\n",
            " [9.78888810e-01]\n",
            " [9.99630332e-01]\n",
            " [9.99988079e-01]\n",
            " [9.99112189e-01]\n",
            " [9.99997020e-01]\n",
            " [9.99863744e-01]\n",
            " [9.81585503e-01]\n",
            " [6.32279694e-01]\n",
            " [1.27856731e-02]\n",
            " [9.83469367e-01]\n",
            " [9.99951959e-01]\n",
            " [9.99971628e-01]\n",
            " [9.99987245e-01]\n",
            " [9.99933600e-01]\n",
            " [9.96287823e-01]\n",
            " [9.98527050e-01]\n",
            " [9.64283288e-01]\n",
            " [9.99940753e-01]\n",
            " [9.79923308e-01]\n",
            " [8.24336469e-01]\n",
            " [9.65667665e-01]\n",
            " [9.99996781e-01]\n",
            " [9.76399779e-01]\n",
            " [9.82725203e-01]\n",
            " [7.89943337e-01]\n",
            " [9.99917269e-01]\n",
            " [9.98784959e-01]\n",
            " [9.97397065e-01]\n",
            " [4.74299550e-01]\n",
            " [9.74961400e-01]\n",
            " [9.35669243e-01]\n",
            " [9.98967528e-01]\n",
            " [9.99939919e-01]\n",
            " [7.21456436e-03]\n",
            " [9.99751508e-01]\n",
            " [9.73238468e-01]\n",
            " [9.99846458e-01]\n",
            " [9.99858975e-01]\n",
            " [9.99919534e-01]\n",
            " [4.15223138e-03]\n",
            " [9.78898704e-01]\n",
            " [4.91142133e-03]\n",
            " [1.81894377e-02]\n",
            " [9.89724398e-01]\n",
            " [9.99926567e-01]\n",
            " [9.96971607e-01]\n",
            " [9.99993324e-01]\n",
            " [9.99974728e-01]\n",
            " [3.93617213e-01]\n",
            " [9.99963999e-01]\n",
            " [9.67570841e-01]\n",
            " [9.99969244e-01]\n",
            " [3.48879844e-02]\n",
            " [9.99505281e-01]\n",
            " [9.99957919e-01]\n",
            " [1.86174095e-01]\n",
            " [1.49889156e-01]\n",
            " [9.99727428e-01]\n",
            " [9.94071305e-01]\n",
            " [9.07496512e-01]\n",
            " [9.54128027e-01]\n",
            " [9.99983430e-01]\n",
            " [9.99967098e-01]\n",
            " [9.99850988e-01]\n",
            " [7.35077798e-01]\n",
            " [9.20246065e-01]\n",
            " [9.99294758e-01]\n",
            " [9.97993827e-01]\n",
            " [5.06595746e-02]\n",
            " [9.88434434e-01]\n",
            " [9.99093175e-01]\n",
            " [9.87033844e-01]\n",
            " [7.72476137e-01]\n",
            " [9.99785960e-01]\n",
            " [9.99384165e-01]\n",
            " [7.46714473e-01]\n",
            " [8.83775413e-01]\n",
            " [9.98413086e-01]\n",
            " [9.83091652e-01]\n",
            " [9.99999285e-01]\n",
            " [9.96500254e-01]\n",
            " [9.96039391e-01]\n",
            " [9.99991655e-01]\n",
            " [9.65851188e-01]\n",
            " [9.65795815e-01]\n",
            " [9.90646258e-02]\n",
            " [9.99862552e-01]\n",
            " [9.96037185e-01]\n",
            " [9.99755323e-01]\n",
            " [9.59433794e-01]\n",
            " [4.41324502e-01]\n",
            " [9.99548018e-01]\n",
            " [9.31449592e-01]\n",
            " [9.98756886e-01]\n",
            " [9.97335613e-01]\n",
            " [9.97988582e-01]\n",
            " [6.60833538e-01]\n",
            " [9.73066390e-01]\n",
            " [9.98362482e-01]\n",
            " [9.92103279e-01]\n",
            " [9.32464659e-01]\n",
            " [9.95157182e-01]\n",
            " [9.88048375e-01]\n",
            " [9.88048375e-01]\n",
            " [9.81943548e-01]\n",
            " [9.83206391e-01]\n",
            " [9.99611437e-01]\n",
            " [9.98932064e-01]\n",
            " [6.95172787e-01]\n",
            " [4.91505802e-01]\n",
            " [7.86759675e-01]\n",
            " [8.20764601e-01]\n",
            " [9.97621477e-01]\n",
            " [9.99997735e-01]\n",
            " [9.89903450e-01]\n",
            " [9.99831796e-01]\n",
            " [9.13665295e-01]\n",
            " [9.21796620e-01]\n",
            " [9.93344545e-01]\n",
            " [9.99691606e-01]\n",
            " [9.99746263e-01]\n",
            " [9.99592841e-01]\n",
            " [7.31993914e-02]\n",
            " [9.92613554e-01]\n",
            " [7.64528140e-02]\n",
            " [9.99603331e-01]\n",
            " [9.94733930e-01]\n",
            " [1.48961656e-02]\n",
            " [9.88776743e-01]\n",
            " [9.41188633e-01]\n",
            " [3.00641842e-02]\n",
            " [8.95132482e-01]\n",
            " [9.54888344e-01]\n",
            " [9.51335371e-01]\n",
            " [9.24593568e-01]\n",
            " [2.31288850e-01]\n",
            " [9.40754861e-02]\n",
            " [5.04770696e-01]\n",
            " [9.99988079e-01]\n",
            " [9.99985099e-01]\n",
            " [6.98345780e-01]\n",
            " [9.99763668e-01]\n",
            " [9.99998689e-01]\n",
            " [9.99834299e-01]\n",
            " [9.93871331e-01]\n",
            " [2.25757450e-01]\n",
            " [9.98247385e-01]\n",
            " [8.37328851e-01]\n",
            " [9.68655169e-01]\n",
            " [4.11228776e-01]\n",
            " [9.99999404e-01]\n",
            " [5.22217989e-01]\n",
            " [9.83473837e-01]\n",
            " [9.66700912e-01]\n",
            " [9.99441564e-01]\n",
            " [9.99990463e-01]\n",
            " [9.99461830e-01]\n",
            " [5.37814677e-01]\n",
            " [9.78424907e-01]\n",
            " [9.99405146e-01]\n",
            " [9.60580051e-01]\n",
            " [5.02974130e-02]\n",
            " [9.99836564e-01]\n",
            " [9.99774992e-01]\n",
            " [9.59776640e-01]\n",
            " [9.99762833e-01]\n",
            " [9.99948502e-01]\n",
            " [9.27810550e-01]\n",
            " [9.90992963e-01]\n",
            " [6.22569382e-01]\n",
            " [9.09623384e-01]\n",
            " [9.60385919e-01]\n",
            " [9.87781405e-01]\n",
            " [9.85181868e-01]\n",
            " [9.69833970e-01]\n",
            " [9.91697431e-01]\n",
            " [9.94967639e-01]\n",
            " [9.99084353e-01]\n",
            " [9.99993682e-01]\n",
            " [9.99933839e-01]\n",
            " [9.95126963e-01]\n",
            " [9.99982953e-01]\n",
            " [4.28437710e-01]\n",
            " [9.90049243e-01]\n",
            " [9.82954085e-01]\n",
            " [9.73650992e-01]\n",
            " [7.29232371e-01]\n",
            " [5.90335786e-01]\n",
            " [7.85477161e-01]\n",
            " [9.92334306e-01]\n",
            " [9.99903798e-01]\n",
            " [6.71169698e-01]\n",
            " [9.99839544e-01]\n",
            " [9.91377831e-01]\n",
            " [9.99947548e-01]\n",
            " [9.98924315e-01]\n",
            " [9.87957537e-01]\n",
            " [9.14845467e-01]\n",
            " [9.99976754e-01]\n",
            " [9.99443710e-01]\n",
            " [9.99945402e-01]\n",
            " [9.58101749e-01]\n",
            " [9.99774516e-01]\n",
            " [9.99848843e-01]\n",
            " [2.27679580e-01]\n",
            " [9.99898314e-01]\n",
            " [9.93790805e-01]\n",
            " [3.94087493e-01]\n",
            " [3.96262825e-01]\n",
            " [9.99847531e-01]\n",
            " [9.99186099e-01]\n",
            " [9.99530315e-01]\n",
            " [9.99589622e-01]\n",
            " [9.99986649e-01]\n",
            " [9.99017835e-01]\n",
            " [9.99710381e-01]\n",
            " [8.91327083e-01]\n",
            " [9.98133123e-01]\n",
            " [9.88442361e-01]\n",
            " [9.99308348e-01]\n",
            " [9.90168095e-01]\n",
            " [9.99246478e-01]\n",
            " [9.99190629e-01]\n",
            " [3.24708402e-01]\n",
            " [9.97111440e-01]\n",
            " [9.99698281e-01]\n",
            " [9.99943256e-01]\n",
            " [9.99739230e-01]\n",
            " [9.57309604e-01]\n",
            " [9.96670544e-01]\n",
            " [9.99738038e-01]\n",
            " [9.94232714e-01]\n",
            " [3.99238348e-01]\n",
            " [9.97713089e-01]\n",
            " [9.99984384e-01]\n",
            " [9.99457896e-01]\n",
            " [9.99997854e-01]\n",
            " [3.01928788e-01]\n",
            " [9.99577105e-01]\n",
            " [9.90367889e-01]\n",
            " [9.97770071e-01]\n",
            " [9.99927402e-01]\n",
            " [9.99944329e-01]\n",
            " [9.99971151e-01]\n",
            " [9.84620452e-01]\n",
            " [9.99987245e-01]\n",
            " [9.61856127e-01]\n",
            " [9.94942129e-01]\n",
            " [7.04298019e-01]\n",
            " [9.99395013e-01]\n",
            " [7.53467728e-04]\n",
            " [5.91403663e-01]\n",
            " [6.33104861e-01]\n",
            " [9.82461751e-01]\n",
            " [9.98476088e-01]\n",
            " [9.99902010e-01]\n",
            " [9.57883060e-01]\n",
            " [9.98992383e-01]\n",
            " [9.99638081e-01]\n",
            " [9.32083905e-01]\n",
            " [9.09764588e-01]\n",
            " [9.99953747e-01]\n",
            " [9.99754250e-01]\n",
            " [5.89473665e-01]\n",
            " [9.95126069e-01]\n",
            " [9.99030113e-01]\n",
            " [9.99943733e-01]\n",
            " [9.99975562e-01]\n",
            " [9.99137521e-01]\n",
            " [9.99893785e-01]\n",
            " [9.99990106e-01]\n",
            " [9.99697566e-01]\n",
            " [9.98419642e-01]\n",
            " [9.83784318e-01]\n",
            " [1.06349893e-01]]\n"
          ]
        }
      ],
      "source": [
        "print(model.predict(test_generator, steps=len(test_generator)))"
      ]
    },
    {
      "cell_type": "code",
      "execution_count": 393,
      "id": "48a4f23a",
      "metadata": {},
      "outputs": [
        {
          "name": "stdout",
          "output_type": "stream",
          "text": [
            "10/10 [==============================] - 2s 158ms/step\n",
            "[0 0 0 0 0 0 0 0 0 0 0 0 0 0 0 0 0 0 0 0 0 0 0 0 0 0 0 0 0 0 0 0 0 0 0 0 0\n",
            " 0 0 0 0 0 0 0 0 0 0 0 0 0 0 0 0 0 0 0 0 0 0 0 0 0 0 0 0 0 0 0 0 0 0 0 0 0\n",
            " 0 0 0 0 0 0 0 0 0 0 0 0 0 0 0 0 0 0 0 0 0 0 0 0 0 0 0 0 0 0 0 0 0 0 0 0 0\n",
            " 0 0 0 0 0 0 0 0 0 0 0 0 0 0 0 0 0 0 0 0 0 0 0 0 0 0 0 0 0 0 0 0 0 0 0 0 0\n",
            " 0 0 0 0 0 0 0 0 0 0 0 0 0 0 0 0 0 0 0 0 0 0 0 0 0 0 0 0 0 0 0 0 0 0 0 0 0\n",
            " 0 0 0 0 0 0 0 0 0 0 0 0 0 0 0 0 0 0 0 0 0 0 0 0 0 0 0 0 0 0 0 0 0 0 0 0 0\n",
            " 0 0 0 0 0 0 0 0 0 0 0 0 0 0 0 0 0 0 0 0 0 0 0 0 0 0 0 0 0 0 0 0 0 0 0 0 0\n",
            " 0 0 0 0 0 0 0 0 0 0 0 0 0 0 0 0 0 0 0 0 0 0 0 0 0 0 0 0 0 0 0 0 0 0 0 0 0\n",
            " 0 0 0 0 0 0 0 0 0 0 0 0 0 0 0 0 0 0 0 0 0 0 0 0 0 0 0 0 0 0 0 0 0 0 0 0 0\n",
            " 0 0 0 0 0 0 0 0 0 0 0 0 0 0 0 0 0 0 0 0 0 0 0 0 0 0 0 0 0 0 0 0 0 0 0 0 0\n",
            " 0 0 0 0 0 0 0 0 0 0 0 0 0 0 0 0 0 0 0 0 0 0 0 0 0 0 0 0 0 0 0 0 0 0 0 0 0\n",
            " 0 0 0 0 0 0 0 0 0 0 0 0 0 0 0 0 0 0 0 0 0 0 0 0 0 0 0 0 0 0 0 0 0 0 0 0 0\n",
            " 0 0 0 0 0 0 0 0 0 0 0 0 0 0 0 0 0 0 0 0 0 0 0 0 0 0 0 0 0 0 0 0 0 0 0 0 0\n",
            " 0 0 0 0 0 0 0 0 0 0 0 0 0 0 0 0 0 0 0 0 0 0 0 0 0 0 0 0 0 0 0 0 0 0 0 0 0\n",
            " 0 0 0 0 0 0 0 0 0 0 0 0 0 0 0 0 0 0 0 0 0 0 0 0 0 0 0 0 0 0 0 0 0 0 0 0 0\n",
            " 0 0 0 0 0 0 0 0 0 0 0 0 0 0 0 0 0 0 0 0 0 0 0 0 0 0 0 0 0 0 0 0 0 0 0 0 0\n",
            " 0 0 0 0 0 0 0 0 0 0 0 0 0 0 0 0 0 0 0 0 0 0 0 0 0 0 0 0 0 0 0 0]\n"
          ]
        },
        {
          "data": {
            "image/png": "[encoded data removed]",
            "text/plain": [
              "<Figure size 1000x700 with 2 Axes>"
            ]
          },
          "metadata": {},
          "output_type": "display_data"
        }
      ],
      "source": [
        "from sklearn.metrics import confusion_matrix\n",
        "import seaborn as sns\n",
        "import matplotlib.pyplot as plt\n",
        "import numpy as np\n",
        "\n",
        "\n",
        "def plot_confusion_matrix(model, test_generator):\n",
        "    # Get the true labels\n",
        "    true_labels = test_generator.classes\n",
        "    \n",
        "    # Predict probabilities of each class for the images in the test set\n",
        "    predictions = loaded_model.predict(test_generator, steps=len(test_generator))\n",
        "    \n",
        "    # Convert the probabilities to class labels\n",
        "    predicted_labels = np.argmax(predictions, axis=1)\n",
        "    print(predicted_labels)\n",
        "    # Compute the confusion matrix\n",
        "    matrix = confusion_matrix(true_labels, predicted_labels)\n",
        "    \n",
        "    # Create a heatmap of the confusion matrix using seaborn\n",
        "    plt.figure(figsize=(10, 7))\n",
        "    sns.heatmap(matrix, annot=True, fmt=\"d\", cmap='Blues')\n",
        "    plt.title('Confusion Matrix')\n",
        "    plt.ylabel('True Label')\n",
        "    plt.xlabel('Predicted Label')\n",
        "    plt.show()\n",
        "\n",
        "plot_confusion_matrix(model, test_generator)\n"
      ]
    },
    {
      "cell_type": "code",
      "execution_count": 384,
      "id": "960a1767",
      "metadata": {},
      "outputs": [
        {
          "name": "stdout",
          "output_type": "stream",
          "text": [
            "10/10 [==============================] - 2s 156ms/step\n"
          ]
        },
        {
          "data": {
            "text/plain": [
              "<tf.Tensor: shape=(2, 2), dtype=int32, numpy=\n",
              "array([[234,   0],\n",
              "       [390,   0]])>"
            ]
          },
          "execution_count": 384,
          "metadata": {},
          "output_type": "execute_result"
        }
      ],
      "source": [
        "# tf.math.confusion_matrix(\n",
        "#     labels,\n",
        "#     predictions,\n",
        "#     num_classes=None,\n",
        "#     weights=None,\n",
        "#     dtype=tf.dtypes.int32,\n",
        "#     name=None\n",
        "# )\n",
        "\n",
        "tf.math.confusion_matrix(\n",
        "    test_generator.classes,\n",
        "    model.predict(test_generator, steps=len(test_generator)),\n",
        "    num_classes=2,\n",
        "    weights=None,\n",
        "    dtype=tf.dtypes.int32,\n",
        "    name=None\n",
        ")"
      ]
    }
  ],
  "metadata": {
    "kernelspec": {
      "display_name": "Python 3",
      "language": "python",
      "name": "python3"
    },
    "language_info": {
      "codemirror_mode": {
        "name": "ipython",
        "version": 3
      },
      "file_extension": ".py",
      "mimetype": "text/x-python",
      "name": "python",
      "nbconvert_exporter": "python",
      "pygments_lexer": "ipython3",
      "version": "3.8.16"
    },
    "noteable": {
      "last_delta_id": "c7b4806f-4870-4d4c-b648-542c5112a402",
      "last_transaction_id": "c7b4806f-4870-4d4c-b648-542c5112a402"
    },
    "noteable-chatgpt": {
      "create_notebook": {
        "openai_conversation_id": "e7f1b010-db5a-59ff-b446-39f3898bfcce",
        "openai_ephemeral_user_id": "b4bf95a0-753d-56bf-90f8-f9e675196e96",
        "openai_subdivision1_iso_code": "FR-IDF"
      }
    },
    "nteract": {
      "version": "noteable@2.9.0"
    },
    "selected_hardware_size": "small"
  },
  "nbformat": 4,
  "nbformat_minor": 5
}
